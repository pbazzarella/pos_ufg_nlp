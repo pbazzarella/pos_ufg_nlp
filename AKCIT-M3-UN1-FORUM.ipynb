import numpy as np
import matplotlib.pyplot as plt

def processar_notas(notas):
    # Converter a tupla em um array NumPy
    notas_array = np.array(notas, dtype=np.float64)
    
    # Calcular a média
    media = np.mean(notas_array)
    
    # Encontrar a maior e a menor nota
    maior_nota = np.max(notas_array)
    menor_nota = np.min(notas_array)
    
    # Determinar quantos alunos tiraram nota acima da média
    acima_da_media = np.sum(notas_array > media)
    
    # Aplicar um acréscimo de 10% às notas, limitando ao máximo de 10.0
    notas_ajustadas = np.round(np.minimum(notas_array * 1.1, 10.0), 2)

    print(f"maior_nota: {maior_nota}")
    print(f"menor_nota: {menor_nota}")
    print(f"acima_da_media: {acima_da_media} alunos ")
    print(f"notas: {notas}")
    print(f"notas_ajustadas: {notas_ajustadas}")
    return {
        "média": media,
        "maior_nota": maior_nota,
        "menor_nota": menor_nota,
        "acima_da_media": acima_da_media,
        "notas_ajustadas": notas_ajustadas
    }



# Exemplo de uso
#notas_alunos = (6.5, 7.8, 9.0, 5.4, 8.2, 7.0, 9.5, 6.9, 8.7, 4.3)

#recebendo dados aleatórios
notas_alunos = tuple(np.round(np.random.uniform(0, 10, 10), 1))
resultado = processar_notas(notas_alunos)
#print(resultado)


# Usando a biblioteca Matplotlib, gere um gráfico de barras que
# As notas originais;
# As notas ajustadas (com acréscimo de 10%).
# Uma linha horizontal representando a média.

import matplotlib.pyplot as plt
import numpy as np

# Criar o gráfico de barras
indices = np.arange(len(notas_alunos)) # Posições das barras no eixo x
width = 0.21  # Largura das barras
plt.figure(figsize=(10, 9))

# Adicionar rótulos e título
plt.title('Notas Originais vs. Notas Ajustadas')

plt.bar(indices - width, notas_alunos, width=0.4, label="As notas originais")
plt.bar(indices + width, resultado["notas_ajustadas"], width=0.4, label="As notas ajustadas")
plt.xticks(indices, [f'{i+1}' for i in indices]) # Define os valores e rótulos do eixo x
plt.axhline(resultado["média"], color='r', linestyle='--', label=f'Média: {resultado["média"]:.1f}')

plt.show()
